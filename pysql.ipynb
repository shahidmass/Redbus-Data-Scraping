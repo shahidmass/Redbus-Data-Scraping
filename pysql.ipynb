{
 "cells": [
  {
   "cell_type": "code",
   "execution_count": null,
   "id": "3ecfffc9-70e1-4218-b284-3c76eb86ab48",
   "metadata": {},
   "outputs": [],
   "source": [
    "import pandas as pd\n",
    "import glob\n",
    "df = pd.read_csv(\"ap_bus_details.csv\")\n",
    "df = pd.read_csv(\"assam_bus_details.csv\")\n",
    "df = pd.read_csv(\"chandigarh_bus_details.csv\")\n",
    "df = pd.read_csv(\"himachal_bus_details.csv\")\n",
    "df = pd.read_csv(\"kaac_bus_details.csv\")\n",
    "df = pd.read_csv(\"kerala_bus_details.csv\")\n",
    "df = pd.read_csv(\"rajasthan_bus_details.csv\")\n",
    "df = pd.read_csv(\"sb_bus_details.csv\")\n",
    "df = pd.read_csv(\"Telangana_bus_details.csv\")\n",
    "df = pd.read_csv(\"up_bus_details.csv\")\n",
    "df = pd.read_csv(\"wb_bus_details.csv\")\n",
    "df = pd.read_csv(\"wb2_bus_details.csv\")\n",
    "df = pd.read_csv(\"jk_bus_details.csv\")\n",
    "\n",
    "# List of CSV file paths\n",
    "csv_files = [\"ap_bus_details.csv\", \"assam_bus_details.csv\", \"chandigarh_bus_details.csv\", \"himachal_bus_details.csv\", \"kaac_bus_details.csv\", \"kerala_bus_details.csv\",\"rajasthan_bus_details.csv\", \"sb_bus_details.csv\", \"Telangana_bus_details.csv\", \"up_bus_details.csv\", \"wb_bus_details.csv\", \"wb2_bus_details.csv\", \"jk_bus_details.csv\"]   \n",
    "\n",
    "# Read each CSV file into a DataFrame and store it in a list\n",
    "df = [pd.read_csv(file) for file in csv_files]\n",
    "\n",
    "# Concatenate all DataFrames in the list\n",
    "combined_df = pd.concat(df, ignore_index=True)\n",
    "\n",
    "combined_df.to_csv(\"bus_routes.csv\", index=False)\n",
    "\n",
    "#add id column\n",
    "id_column = pd.Series(range(1, len(df) + 1), name='id')\n",
    "df = pd.concat([id_column, df], axis=1)\n",
    "df = pd.read_csv(\"bus_routes.csv\")\n",
    "\n",
    "# replace string to empty string\n",
    "df['Price'] = df['Price'].str.replace('INR ', '')\n",
    "\n",
    "#extract the digits(0-9)\n",
    "df['Seat_Availability'] = df['Seat_Availability'].str.extract('(\\d+)')\n",
    "\n",
    "#python mysql connection\n",
    "import pymysql\n",
    "myconnection = pymysql.connect(host='127.0.0.1', user='root',passwd='123456789',database=\"redbus\")\n",
    "df = pd.read_csv(\"bus_routes.csv\")\n",
    "df = df.dropna() #drop null values\n",
    "a = \",\".join(f\"{i} {j}\"\n",
    "for i,j in zip(df.columns,df.dtypes)).replace(\"float64\",\"float\").replace(\"object\",\"text\").replace(\"int64\",\"int\") #replace dtypes from pandas to mysql\n",
    "table_name = \"bus_routes\"\n",
    "myconnection.cursor().execute(f\"create table {table_name} ({a})\")\n",
    "for i in range(len(df)):\n",
    "    myconnection.cursor().execute(f\"insert into {table_name} values {tuple(df.iloc[i])}\")\n",
    "    myconnection.commit()\n"
   ]
  }
 ],
 "metadata": {
  "kernelspec": {
   "display_name": "Python 3 (ipykernel)",
   "language": "python",
   "name": "python3"
  },
  "language_info": {
   "codemirror_mode": {
    "name": "ipython",
    "version": 3
   },
   "file_extension": ".py",
   "mimetype": "text/x-python",
   "name": "python",
   "nbconvert_exporter": "python",
   "pygments_lexer": "ipython3",
   "version": "3.11.7"
  }
 },
 "nbformat": 4,
 "nbformat_minor": 5
}
